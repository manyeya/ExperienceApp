{
  "nbformat": 4,
  "nbformat_minor": 0,
  "metadata": {
    "colab": {
      "name": "Analysis 1.ipynb",
      "provenance": [],
      "collapsed_sections": [],
      "authorship_tag": "ABX9TyMzVO8EjKwSF0/P5V9u8Iar",
      "include_colab_link": true
    },
    "kernelspec": {
      "name": "python3",
      "display_name": "Python 3"
    },
    "language_info": {
      "name": "python"
    }
  },
  "cells": [
    {
      "cell_type": "markdown",
      "metadata": {
        "id": "view-in-github",
        "colab_type": "text"
      },
      "source": [
        "<a href=\"https://colab.research.google.com/github/manyeya/ExperienceApp/blob/master/Analysis_1.ipynb\" target=\"_parent\"><img src=\"https://colab.research.google.com/assets/colab-badge.svg\" alt=\"Open In Colab\"/></a>"
      ]
    },
    {
      "cell_type": "code",
      "metadata": {
        "id": "rJ71ZUBOcxKX"
      },
      "source": [
        "import pandas as pd\n",
        "import seaborn as sns\n",
        "import matplotlib.pyplot as plt\n",
        "import numpy as np\n",
        "import sklearn.datasets\n",
        "\n",
        "\n",
        "def get_iris_df():\n",
        "    ds = sklearn.datasets.load_iris()\n",
        "    df = pd.DataFrame(ds['data'],\n",
        "                      columns = ds['feature_names'])\n",
        "    print(ds['data'])\n",
        "    code_species_map = dict(zip(range(3), ds['target_names']))\n",
        "    df['species'] = [code_species_map[c]\n",
        "        for c in ds['target']]\n",
        "        \n",
        "    return df\n",
        "\n",
        "\n",
        "iris = get_iris_df()\n",
        "\n",
        "#descriptive statistics\n",
        "iris.describe()\n",
        "\n",
        "#Missing value check\n",
        "iris.isna().sum()\n",
        "\n",
        "iris.groupby('species').agg(['mean', 'median'])\n",
        "\n",
        "iris.groupby('species').std()\n",
        "\n",
        "sns.set(style=\"ticks\") \n",
        "plt.figure(figsize=(12,10))\n",
        "plt.subplot(2,2,1)\n",
        "sns.histplot(x='species',y='sepal length (cm)',data=iris)\n",
        "plt.subplot(2,2,2)\n",
        "sns.barplot(x='species',y='sepal width (cm)',data=iris)\n",
        "plt.subplot(2,2,3)\n",
        "sns.violinplot(x='species',y='petal length (cm)',data=iris)\n",
        "plt.subplot(2,2,4)\n",
        "sns.boxplot(x='species',y='petal width (cm)',data=iris)\n",
        "plt.show()\n",
        "\n",
        "iris_setosa = iris[iris[\"species\"] == \"setosa\"]\n",
        "iris_versicolor = iris[iris[\"species\"] == \"versicolor\"]\n",
        "iris_virginica = iris[iris[\"species\"] == \"virginica\"]\n",
        "\n",
        "sns.pairplot(iris,hue=\"species\") \n"
      ],
      "execution_count": null,
      "outputs": []
    }
  ]
}